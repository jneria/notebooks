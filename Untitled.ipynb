{
 "cells": [
  {
   "cell_type": "code",
   "execution_count": null,
   "metadata": {
    "collapsed": true
   },
   "outputs": [],
   "source": [
    "from matplotlib import pyplot as plt\n",
    "import numpy as np\n",
    "x = np.linspace(1, 10)\n",
    "y = [10 ** el for el in x]\n",
    "z = [2 * el for el in x]\n",
    "fig = plt.figure(figsize=(10, 8))\n",
    "ax1 = fig.add_subplot(2, 2, 1)\n",
    "ax1.plot(x, y, color='blue')\n",
    "ax1.set_yscale('log')\n",
    "ax1.set_title(r'Logarithmic plot of $ {10}^{x} $ ')\n",
    "ax1.set_ylabel(r'$ {y} = {10}^{x} $')\n",
    "plt.grid(b=True, which='both', axis='both')\n",
    "ax2 = fig.add_subplot(2, 2, 2)\n",
    "ax2.plot(x, y, color='red')\n",
    "ax2.set_yscale('linear')\n",
    "ax2.set_title(r'Linear plot of $ {10}^{x} $ ')\n",
    "ax2.set_ylabel(r'$ {y} = {10}^{x} $')\n",
    "plt.grid(b=True, which='both', axis='both')\n",
    "ax3 = fig.add_subplot(2, 2, 3)\n",
    "ax3.plot(x, z, color='green')\n",
    "ax3.set_yscale('log')\n",
    "ax3.set_title(r'Logarithmic plot of $ {2}*{x} $ ')\n",
    "ax3.set_ylabel(r'$ {y} = {2}*{x} $')\n",
    "plt.grid(b=True, which='both', axis='both')\n",
    "ax4 = fig.add_subplot(2, 2, 4)\n",
    "ax4.plot(x, z, color='magenta')\n",
    "ax4.set_yscale('linear')\n",
    "ax4.set_title(r'Linear plot of $ {2}*{x} $ ')\n",
    "ax4.set_ylabel(r'$ {y} = {2}*{x} $')\n",
    "plt.grid(b=True, which='both', axis='both')\n",
    "plt.show()"
   ]
  },
  {
   "cell_type": "code",
   "execution_count": null,
   "metadata": {
    "collapsed": true
   },
   "outputs": [],
   "source": []
  }
 ],
 "metadata": {
  "kernelspec": {
   "display_name": "Python 2",
   "language": "python",
   "name": "python2"
  },
  "language_info": {
   "codemirror_mode": {
    "name": "ipython",
    "version": 2
   },
   "file_extension": ".py",
   "mimetype": "text/x-python",
   "name": "python",
   "nbconvert_exporter": "python",
   "pygments_lexer": "ipython2",
   "version": "2.7.11"
  }
 },
 "nbformat": 4,
 "nbformat_minor": 0
}
